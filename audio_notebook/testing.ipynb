{
 "cells": [
  {
   "cell_type": "code",
   "execution_count": null,
   "metadata": {},
   "outputs": [],
   "source": [
    "from keras.models import load_model\n",
    "\n",
    " \n",
    "# load model\n",
    "model = load_model(\"heartbeat_model.h5\")"
   ]
  },
  {
   "cell_type": "code",
   "execution_count": null,
   "metadata": {},
   "outputs": [
    {
     "name": "stdout",
     "output_type": "stream",
     "text": [
      "Requirement already satisfied: pydub in r:\\python\\lib\\site-packages (0.25.1)\n",
      "Note: you may need to restart the kernel to use updated packages.\n"
     ]
    },
    {
     "name": "stderr",
     "output_type": "stream",
     "text": [
      "WARNING: Ignoring invalid distribution -p (r:\\python\\lib\\site-packages)\n",
      "WARNING: Ignoring invalid distribution -ip (r:\\python\\lib\\site-packages)\n",
      "WARNING: Ignoring invalid distribution - (r:\\python\\lib\\site-packages)\n",
      "WARNING: Ignoring invalid distribution -p (r:\\python\\lib\\site-packages)\n",
      "WARNING: Ignoring invalid distribution -ip (r:\\python\\lib\\site-packages)\n",
      "WARNING: Ignoring invalid distribution - (r:\\python\\lib\\site-packages)\n",
      "WARNING: Ignoring invalid distribution -p (r:\\python\\lib\\site-packages)\n",
      "WARNING: Ignoring invalid distribution -ip (r:\\python\\lib\\site-packages)\n",
      "WARNING: Ignoring invalid distribution - (r:\\python\\lib\\site-packages)\n",
      "WARNING: Ignoring invalid distribution -p (r:\\python\\lib\\site-packages)\n",
      "WARNING: Ignoring invalid distribution -ip (r:\\python\\lib\\site-packages)\n",
      "WARNING: Ignoring invalid distribution - (r:\\python\\lib\\site-packages)\n",
      "WARNING: Ignoring invalid distribution -p (r:\\python\\lib\\site-packages)\n",
      "WARNING: Ignoring invalid distribution -ip (r:\\python\\lib\\site-packages)\n",
      "WARNING: Ignoring invalid distribution - (r:\\python\\lib\\site-packages)\n",
      "WARNING: Ignoring invalid distribution -p (r:\\python\\lib\\site-packages)\n",
      "WARNING: Ignoring invalid distribution -ip (r:\\python\\lib\\site-packages)\n",
      "WARNING: Ignoring invalid distribution - (r:\\python\\lib\\site-packages)\n",
      "WARNING: You are using pip version 22.0.4; however, version 22.2.2 is available.\n",
      "You should consider upgrading via the 'r:\\Python\\python.exe -m pip install --upgrade pip' command.\n"
     ]
    }
   ],
   "source": [
    "%pip install pydub"
   ]
  },
  {
   "cell_type": "code",
   "execution_count": null,
   "metadata": {},
   "outputs": [
    {
     "name": "stderr",
     "output_type": "stream",
     "text": [
      "r:\\Python\\lib\\site-packages\\pydub\\utils.py:170: RuntimeWarning: Couldn't find ffmpeg or avconv - defaulting to ffmpeg, but may not work\n",
      "  warn(\"Couldn't find ffmpeg or avconv - defaulting to ffmpeg, but may not work\", RuntimeWarning)\n"
     ]
    }
   ],
   "source": [
    "from pydub import AudioSegment\n",
    "from os import path\n",
    "import numpy as np\n",
    "import librosa\n",
    "\n",
    "def extract_features(audio_path,offset):\n",
    "#     y, sr = librosa.load(audio_path, duration=3)\n",
    "    y, sr = librosa.load(audio_path, offset=offset, duration=3)\n",
    "#     y = librosa.util.normalize(y)\n",
    "    \n",
    "    S = librosa.feature.melspectrogram(y, sr=sr, n_fft=2048, \n",
    "                                   hop_length=512, \n",
    "                                   n_mels=128)\n",
    "    mfccs = librosa.feature.mfcc(S=librosa.power_to_db(S), n_mfcc=40)\n",
    "\n",
    "#     mfccs = librosa.feature.mfcc(y=y, sr=sr, n_mfcc=40)\n",
    "    return mfccs\n",
    "\n"
   ]
  },
  {
   "cell_type": "code",
   "execution_count": null,
   "metadata": {},
   "outputs": [
    {
     "name": "stderr",
     "output_type": "stream",
     "text": [
      "C:\\Users\\Rakshit Shah\\AppData\\Local\\Temp\\ipykernel_15860\\2930504597.py:11: FutureWarning: Pass y=[ 0.01143901  0.01223876  0.01287669 ... -0.01539551 -0.01067104\n",
      " -0.00635202] as keyword args. From version 0.10 passing these as positional arguments will result in an error\n",
      "  S = librosa.feature.melspectrogram(y, sr=sr, n_fft=2048,\n"
     ]
    },
    {
     "name": "stdout",
     "output_type": "stream",
     "text": [
      "1/1 [==============================] - 0s 295ms/step\n",
      "[[0.00137854 0.99862146]]\n"
     ]
    }
   ],
   "source": [
    "model = load_model(\"heartbeat_model.h5\")\n",
    "classify_file = \"f0001.wav\"\n",
    "\n",
    "x_test = []\n",
    "x_test.append(extract_features(classify_file,0.5))\n",
    "x_test = np.asarray(x_test)\n",
    "x_test = x_test.reshape(x_test.shape[0], x_test.shape[1], x_test.shape[2], 1)\n",
    "pred = model.predict(x_test,verbose=1)\n",
    "\n",
    "print(pred)\n",
    "\n",
    "\n"
   ]
  },
  {
   "cell_type": "code",
   "execution_count": null,
   "metadata": {},
   "outputs": [
    {
     "name": "stdout",
     "output_type": "stream",
     "text": [
      "[0 1]\n",
      "Normal heartbeat\n",
      "confidence: 0.99862146\n"
     ]
    }
   ],
   "source": [
    "pred_class = (model.predict(x_test)>0.5).astype(\"int32\")\n",
    "print(pred_class[0])\n",
    "if pred_class[0][1]:\n",
    "    print(\"Normal heartbeat\")\n",
    "    print(\"confidence:\",pred[0][1])\n",
    "else:\n",
    "    print(\"Abnormal heartbeat\")\n",
    "    print(\"confidence:\",pred[0][0])"
   ]
  }
 ],
 "metadata": {
  "kernelspec": {
   "display_name": "Python 3",
   "language": "python",
   "name": "python3"
  },
  "language_info": {
   "codemirror_mode": {
    "name": "ipython",
    "version": 3
   },
   "file_extension": ".py",
   "mimetype": "text/x-python",
   "name": "python",
   "nbconvert_exporter": "python",
   "pygments_lexer": "ipython3",
   "version": "3.8.6"
  },
  "orig_nbformat": 4,
  "vscode": {
   "interpreter": {
    "hash": "fb528fd416c0ff975b48fb7dd275c91a0873308d73117ccfdcc096d65948d1b4"
   }
  }
 },
 "nbformat": 4,
 "nbformat_minor": 2
}
